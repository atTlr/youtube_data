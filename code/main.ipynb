{
 "cells": [
  {
   "cell_type": "markdown",
   "metadata": {},
   "source": [
    "# Youtube Data\n",
    "\n",
    "## Tyler Zarnik - Github: @atTlr"
   ]
  },
  {
   "cell_type": "code",
   "execution_count": 2,
   "metadata": {},
   "outputs": [],
   "source": [
    "import os\n",
    "import pandas as pd\n",
    "import numpy as np\n",
    "import matplotlib.pyplot as plt"
   ]
  },
  {
   "cell_type": "code",
   "execution_count": 4,
   "metadata": {},
   "outputs": [
    {
     "name": "stdout",
     "output_type": "stream",
     "text": [
      "/Users/tylerzarnik/Documents/AC_NB/youtube_project\n"
     ]
    }
   ],
   "source": [
    "cd .."
   ]
  },
  {
   "cell_type": "code",
   "execution_count": 5,
   "metadata": {},
   "outputs": [
    {
     "name": "stdout",
     "output_type": "stream",
     "text": [
      "/Users/tylerzarnik/Documents/AC_NB/youtube_project/data\n"
     ]
    }
   ],
   "source": [
    "cd \"data/\""
   ]
  },
  {
   "cell_type": "code",
   "execution_count": 9,
   "metadata": {},
   "outputs": [
    {
     "name": "stdout",
     "output_type": "stream",
     "text": [
      "CAvideos.csv  GBvideos.csv  KRvideos.csv  USvideos.csv\r\n",
      "DEvideos.csv  INvideos.csv  MXvideos.csv  empty.txt\r\n",
      "FRvideos.csv  JPvideos.csv  RUvideos.csv\r\n"
     ]
    }
   ],
   "source": [
    "ls"
   ]
  },
  {
   "cell_type": "code",
   "execution_count": 41,
   "metadata": {},
   "outputs": [],
   "source": [
    "file_list = [\"CA\",'GB','US']"
   ]
  },
  {
   "cell_type": "code",
   "execution_count": 14,
   "metadata": {},
   "outputs": [],
   "source": [
    "column_ca = pd.read_csv('../data/CAvideos.csv').columns\n",
    "column_us = pd.read_csv('../data/USvideos.csv').columns"
   ]
  },
  {
   "cell_type": "code",
   "execution_count": 16,
   "metadata": {},
   "outputs": [
    {
     "data": {
      "text/plain": [
       "array([ True,  True,  True,  True,  True,  True,  True,  True,  True,\n",
       "        True,  True,  True,  True,  True,  True,  True])"
      ]
     },
     "execution_count": 16,
     "metadata": {},
     "output_type": "execute_result"
    }
   ],
   "source": [
    "column_ca == column_us"
   ]
  },
  {
   "cell_type": "code",
   "execution_count": 19,
   "metadata": {},
   "outputs": [],
   "source": [
    "sample = pd.read_csv('../data/USvideos.csv')"
   ]
  },
  {
   "cell_type": "code",
   "execution_count": 21,
   "metadata": {},
   "outputs": [],
   "source": [
    "sample['country'] = 'us'"
   ]
  },
  {
   "cell_type": "code",
   "execution_count": 58,
   "metadata": {},
   "outputs": [],
   "source": [
    "def total_datafram_maker(files):\n",
    "    list_df = []\n",
    "    for file in files:\n",
    "        temp_df = pd.read_csv(f'../data/{file}videos.csv')\n",
    "        temp_df['country'] = file\n",
    "        list_df.append(temp_df)\n",
    "        print(file)\n",
    "    return pd.concat(list_df)"
   ]
  },
  {
   "cell_type": "code",
   "execution_count": 69,
   "metadata": {},
   "outputs": [
    {
     "name": "stdout",
     "output_type": "stream",
     "text": [
      "CA\n",
      "GB\n",
      "US\n"
     ]
    }
   ],
   "source": [
    "df = total_datafram_maker(file_list)"
   ]
  },
  {
   "cell_type": "code",
   "execution_count": 70,
   "metadata": {},
   "outputs": [],
   "source": [
    "df"
   ]
  },
  {
   "cell_type": "code",
   "execution_count": 40,
   "metadata": {},
   "outputs": [
    {
     "data": {
      "text/html": [
       "<div>\n",
       "<style scoped>\n",
       "    .dataframe tbody tr th:only-of-type {\n",
       "        vertical-align: middle;\n",
       "    }\n",
       "\n",
       "    .dataframe tbody tr th {\n",
       "        vertical-align: top;\n",
       "    }\n",
       "\n",
       "    .dataframe thead th {\n",
       "        text-align: right;\n",
       "    }\n",
       "</style>\n",
       "<table border=\"1\" class=\"dataframe\">\n",
       "  <thead>\n",
       "    <tr style=\"text-align: right;\">\n",
       "      <th></th>\n",
       "      <th>video_id</th>\n",
       "      <th>trending_date</th>\n",
       "      <th>title</th>\n",
       "      <th>channel_title</th>\n",
       "      <th>category_id</th>\n",
       "      <th>publish_time</th>\n",
       "      <th>tags</th>\n",
       "      <th>views</th>\n",
       "      <th>likes</th>\n",
       "      <th>dislikes</th>\n",
       "      <th>comment_count</th>\n",
       "      <th>thumbnail_link</th>\n",
       "      <th>comments_disabled</th>\n",
       "      <th>ratings_disabled</th>\n",
       "      <th>video_error_or_removed</th>\n",
       "      <th>description</th>\n",
       "    </tr>\n",
       "  </thead>\n",
       "  <tbody>\n",
       "    <tr>\n",
       "      <th>0</th>\n",
       "      <td>RxGQe4EeEpA</td>\n",
       "      <td>17.14.11</td>\n",
       "      <td>좋아 by 민서_윤종신_좋니 답가</td>\n",
       "      <td>라푸마코리아</td>\n",
       "      <td>22</td>\n",
       "      <td>2017-11-13T07:07:36.000Z</td>\n",
       "      <td>라푸마|\"윤종신\"|\"좋니\"|\"좋아\"|\"샬레\"|\"민서\"</td>\n",
       "      <td>156130</td>\n",
       "      <td>1422</td>\n",
       "      <td>40</td>\n",
       "      <td>272</td>\n",
       "      <td>https://i.ytimg.com/vi/RxGQe4EeEpA/default.jpg</td>\n",
       "      <td>False</td>\n",
       "      <td>False</td>\n",
       "      <td>False</td>\n",
       "      <td>윤종신 '좋니'의 답가 '좋아' 최초 공개!\\n그 여자의 이야기를 지금 만나보세요....</td>\n",
       "    </tr>\n",
       "    <tr>\n",
       "      <th>1</th>\n",
       "      <td>hH7wVE8OlQ0</td>\n",
       "      <td>17.14.11</td>\n",
       "      <td>JSA 귀순 북한군 총격 부상</td>\n",
       "      <td>Edward</td>\n",
       "      <td>25</td>\n",
       "      <td>2017-11-13T10:59:16.000Z</td>\n",
       "      <td>JSA|\"귀순\"|\"북한군\"|\"총격\"|\"부상\"|\"JSA 귀순 북한군 총격 부상\"</td>\n",
       "      <td>76533</td>\n",
       "      <td>211</td>\n",
       "      <td>28</td>\n",
       "      <td>113</td>\n",
       "      <td>https://i.ytimg.com/vi/hH7wVE8OlQ0/default.jpg</td>\n",
       "      <td>False</td>\n",
       "      <td>False</td>\n",
       "      <td>False</td>\n",
       "      <td>[채널A단독]北 병사 현재 '의식불명'… 혈압 떨어지는 중 \\n[채널A단독]우리측 ...</td>\n",
       "    </tr>\n",
       "    <tr>\n",
       "      <th>2</th>\n",
       "      <td>9V8bnWUmE9U</td>\n",
       "      <td>17.14.11</td>\n",
       "      <td>나몰라패밀리 운동화 영상 2탄 (빼빼로데이버젼)</td>\n",
       "      <td>나몰라패밀리 핫쇼</td>\n",
       "      <td>22</td>\n",
       "      <td>2017-11-11T07:16:08.000Z</td>\n",
       "      <td>아디다스|\"빼빼로\"|\"핫쇼\"|\"나몰라패밀리\"|\"대학로\"|\"공연\"</td>\n",
       "      <td>421409</td>\n",
       "      <td>5112</td>\n",
       "      <td>166</td>\n",
       "      <td>459</td>\n",
       "      <td>https://i.ytimg.com/vi/9V8bnWUmE9U/default.jpg</td>\n",
       "      <td>False</td>\n",
       "      <td>False</td>\n",
       "      <td>False</td>\n",
       "      <td>퍼가실때 꼭 출처 부탁드려요</td>\n",
       "    </tr>\n",
       "    <tr>\n",
       "      <th>3</th>\n",
       "      <td>0_8py-t5R80</td>\n",
       "      <td>17.14.11</td>\n",
       "      <td>이명박 출국 현장, 놓치면 안되는 장면</td>\n",
       "      <td>미디어몽구</td>\n",
       "      <td>25</td>\n",
       "      <td>2017-11-12T11:19:52.000Z</td>\n",
       "      <td>이명박|\"이명박 출국금지\"|\"이명박 출국현장\"|\"이명박 바레인\"|\"이명박 대통령\"|...</td>\n",
       "      <td>222850</td>\n",
       "      <td>2093</td>\n",
       "      <td>173</td>\n",
       "      <td>1219</td>\n",
       "      <td>https://i.ytimg.com/vi/0_8py-t5R80/default.jpg</td>\n",
       "      <td>False</td>\n",
       "      <td>False</td>\n",
       "      <td>False</td>\n",
       "      <td>다스는 누구겁니까 듣고 난 후 표정</td>\n",
       "    </tr>\n",
       "    <tr>\n",
       "      <th>4</th>\n",
       "      <td>bk55RbxiQdI</td>\n",
       "      <td>17.14.11</td>\n",
       "      <td>김장겸은 물러갔다 MBC 노조 환호와 눈물</td>\n",
       "      <td>NocutV</td>\n",
       "      <td>25</td>\n",
       "      <td>2017-11-13T11:08:59.000Z</td>\n",
       "      <td>nocutV|\"노컷V\"|\"CBS\"|\"mbc\"|\"김장겸\"|\"해임\"|\"허일후\"</td>\n",
       "      <td>84466</td>\n",
       "      <td>1094</td>\n",
       "      <td>109</td>\n",
       "      <td>450</td>\n",
       "      <td>https://i.ytimg.com/vi/bk55RbxiQdI/default.jpg</td>\n",
       "      <td>False</td>\n",
       "      <td>False</td>\n",
       "      <td>False</td>\n",
       "      <td>김장겸 MBC 사장이 결국 해임됐다.\\n\\nMBC 대주주인 방송문화진흥회는 13일 ...</td>\n",
       "    </tr>\n",
       "    <tr>\n",
       "      <th>...</th>\n",
       "      <td>...</td>\n",
       "      <td>...</td>\n",
       "      <td>...</td>\n",
       "      <td>...</td>\n",
       "      <td>...</td>\n",
       "      <td>...</td>\n",
       "      <td>...</td>\n",
       "      <td>...</td>\n",
       "      <td>...</td>\n",
       "      <td>...</td>\n",
       "      <td>...</td>\n",
       "      <td>...</td>\n",
       "      <td>...</td>\n",
       "      <td>...</td>\n",
       "      <td>...</td>\n",
       "      <td>...</td>\n",
       "    </tr>\n",
       "    <tr>\n",
       "      <th>34562</th>\n",
       "      <td>pj6YBBrO1sQ</td>\n",
       "      <td>18.14.06</td>\n",
       "      <td>장모님 가게한다고 1억만 달라는 아내 사이다카톡</td>\n",
       "      <td>이슈트래커</td>\n",
       "      <td>24</td>\n",
       "      <td>2018-06-10T23:00:01.000Z</td>\n",
       "      <td>[none]</td>\n",
       "      <td>156439</td>\n",
       "      <td>383</td>\n",
       "      <td>58</td>\n",
       "      <td>308</td>\n",
       "      <td>https://i.ytimg.com/vi/pj6YBBrO1sQ/default.jpg</td>\n",
       "      <td>False</td>\n",
       "      <td>False</td>\n",
       "      <td>False</td>\n",
       "      <td>- 남편을 돈줄로만 본 아내- 좋아요와 구독은 언제나 환영입니다.- 카톡시리즈- 모...</td>\n",
       "    </tr>\n",
       "    <tr>\n",
       "      <th>34563</th>\n",
       "      <td>_Ne9ER-jr20</td>\n",
       "      <td>18.14.06</td>\n",
       "      <td>여러분~ 렌즈가 이렇게 위험합니다!!!ㅜㅜ _[이슈텔러]</td>\n",
       "      <td>이슈텔러 issueTeller</td>\n",
       "      <td>24</td>\n",
       "      <td>2018-06-12T07:00:06.000Z</td>\n",
       "      <td>[none]</td>\n",
       "      <td>130948</td>\n",
       "      <td>3121</td>\n",
       "      <td>55</td>\n",
       "      <td>988</td>\n",
       "      <td>https://i.ytimg.com/vi/_Ne9ER-jr20/default.jpg</td>\n",
       "      <td>False</td>\n",
       "      <td>False</td>\n",
       "      <td>False</td>\n",
       "      <td>안녕하세요~! 이슈텔러 입니다~^^화, 목 오후 4시 / 토요일 오전 9시 재밌고 ...</td>\n",
       "    </tr>\n",
       "    <tr>\n",
       "      <th>34564</th>\n",
       "      <td>xuOQq_fzEjk</td>\n",
       "      <td>18.14.06</td>\n",
       "      <td>2018년 6월 13일 아침 뉴스</td>\n",
       "      <td>News Express</td>\n",
       "      <td>25</td>\n",
       "      <td>2018-06-12T13:17:29.000Z</td>\n",
       "      <td>한국|\"북한\"|\"미국\"|\"중국\"|\"일본\"|\"러시아\"|\"한국뉴스\"|\"뉴스\"|\"국제뉴스...</td>\n",
       "      <td>62555</td>\n",
       "      <td>319</td>\n",
       "      <td>71</td>\n",
       "      <td>105</td>\n",
       "      <td>https://i.ytimg.com/vi/xuOQq_fzEjk/default.jpg</td>\n",
       "      <td>False</td>\n",
       "      <td>False</td>\n",
       "      <td>False</td>\n",
       "      <td>2018년 6월 13일 아침 뉴스등록되지 않은 구독자가 여기에서 내 새 채널을 지원...</td>\n",
       "    </tr>\n",
       "    <tr>\n",
       "      <th>34565</th>\n",
       "      <td>uXvjxeg08eQ</td>\n",
       "      <td>18.14.06</td>\n",
       "      <td>워너원 웃음 참기 영상 워너원 GO X-con.ver</td>\n",
       "      <td>원플</td>\n",
       "      <td>22</td>\n",
       "      <td>2018-06-11T11:57:20.000Z</td>\n",
       "      <td>워너원|\"워너원 고\"|\"워너원 GO\"|\"웃음참기\"|\"워너원 웃음참기\"|\"워너원 레전...</td>\n",
       "      <td>63306</td>\n",
       "      <td>2369</td>\n",
       "      <td>27</td>\n",
       "      <td>571</td>\n",
       "      <td>https://i.ytimg.com/vi/uXvjxeg08eQ/default.jpg</td>\n",
       "      <td>False</td>\n",
       "      <td>False</td>\n",
       "      <td>False</td>\n",
       "      <td>워너원 웃음 참기 영상 항상 좋아해주셔서 감사합니다8ㅅ8이번에는 얼마전에 있었던 원...</td>\n",
       "    </tr>\n",
       "    <tr>\n",
       "      <th>34566</th>\n",
       "      <td>C-bLqIftDY4</td>\n",
       "      <td>18.14.06</td>\n",
       "      <td>[법륜스님의 즉문즉설 제 1398회] 시동생의 아이를 키우게 됐어요</td>\n",
       "      <td>법륜스님의 즉문즉설</td>\n",
       "      <td>29</td>\n",
       "      <td>2018-06-10T20:00:01.000Z</td>\n",
       "      <td>불교|\"즉문즉설\"|\"법륜스님\"|\"정토회\"|\"buddha\"|\"buddhism\"|\"po...</td>\n",
       "      <td>63716</td>\n",
       "      <td>500</td>\n",
       "      <td>58</td>\n",
       "      <td>135</td>\n",
       "      <td>https://i.ytimg.com/vi/C-bLqIftDY4/default.jpg</td>\n",
       "      <td>False</td>\n",
       "      <td>False</td>\n",
       "      <td>False</td>\n",
       "      <td>3월에 시동생이 이혼했습니다 그러면서 제가중2, 7살, 4살 되는 조카들을 데리고 ...</td>\n",
       "    </tr>\n",
       "  </tbody>\n",
       "</table>\n",
       "<p>34567 rows × 16 columns</p>\n",
       "</div>"
      ],
      "text/plain": [
       "          video_id trending_date                                  title  \\\n",
       "0      RxGQe4EeEpA      17.14.11                     좋아 by 민서_윤종신_좋니 답가   \n",
       "1      hH7wVE8OlQ0      17.14.11                       JSA 귀순 북한군 총격 부상   \n",
       "2      9V8bnWUmE9U      17.14.11             나몰라패밀리 운동화 영상 2탄 (빼빼로데이버젼)   \n",
       "3      0_8py-t5R80      17.14.11             이명박 출국 현장, 놓치면 안되는 장면   \n",
       "4      bk55RbxiQdI      17.14.11                김장겸은 물러갔다 MBC 노조 환호와 눈물   \n",
       "...            ...           ...                                    ...   \n",
       "34562  pj6YBBrO1sQ      18.14.06             장모님 가게한다고 1억만 달라는 아내 사이다카톡   \n",
       "34563  _Ne9ER-jr20      18.14.06        여러분~ 렌즈가 이렇게 위험합니다!!!ㅜㅜ _[이슈텔러]   \n",
       "34564  xuOQq_fzEjk      18.14.06                     2018년 6월 13일 아침 뉴스   \n",
       "34565  uXvjxeg08eQ      18.14.06          워너원 웃음 참기 영상 워너원 GO X-con.ver   \n",
       "34566  C-bLqIftDY4      18.14.06  [법륜스님의 즉문즉설 제 1398회] 시동생의 아이를 키우게 됐어요   \n",
       "\n",
       "          channel_title  category_id              publish_time  \\\n",
       "0                라푸마코리아           22  2017-11-13T07:07:36.000Z   \n",
       "1                Edward           25  2017-11-13T10:59:16.000Z   \n",
       "2             나몰라패밀리 핫쇼           22  2017-11-11T07:16:08.000Z   \n",
       "3                 미디어몽구           25  2017-11-12T11:19:52.000Z   \n",
       "4                NocutV           25  2017-11-13T11:08:59.000Z   \n",
       "...                 ...          ...                       ...   \n",
       "34562             이슈트래커           24  2018-06-10T23:00:01.000Z   \n",
       "34563  이슈텔러 issueTeller           24  2018-06-12T07:00:06.000Z   \n",
       "34564      News Express           25  2018-06-12T13:17:29.000Z   \n",
       "34565                원플           22  2018-06-11T11:57:20.000Z   \n",
       "34566        법륜스님의 즉문즉설           29  2018-06-10T20:00:01.000Z   \n",
       "\n",
       "                                                    tags   views  likes  \\\n",
       "0                          라푸마|\"윤종신\"|\"좋니\"|\"좋아\"|\"샬레\"|\"민서\"  156130   1422   \n",
       "1            JSA|\"귀순\"|\"북한군\"|\"총격\"|\"부상\"|\"JSA 귀순 북한군 총격 부상\"   76533    211   \n",
       "2                    아디다스|\"빼빼로\"|\"핫쇼\"|\"나몰라패밀리\"|\"대학로\"|\"공연\"  421409   5112   \n",
       "3      이명박|\"이명박 출국금지\"|\"이명박 출국현장\"|\"이명박 바레인\"|\"이명박 대통령\"|...  222850   2093   \n",
       "4              nocutV|\"노컷V\"|\"CBS\"|\"mbc\"|\"김장겸\"|\"해임\"|\"허일후\"   84466   1094   \n",
       "...                                                  ...     ...    ...   \n",
       "34562                                             [none]  156439    383   \n",
       "34563                                             [none]  130948   3121   \n",
       "34564  한국|\"북한\"|\"미국\"|\"중국\"|\"일본\"|\"러시아\"|\"한국뉴스\"|\"뉴스\"|\"국제뉴스...   62555    319   \n",
       "34565  워너원|\"워너원 고\"|\"워너원 GO\"|\"웃음참기\"|\"워너원 웃음참기\"|\"워너원 레전...   63306   2369   \n",
       "34566  불교|\"즉문즉설\"|\"법륜스님\"|\"정토회\"|\"buddha\"|\"buddhism\"|\"po...   63716    500   \n",
       "\n",
       "       dislikes  comment_count  \\\n",
       "0            40            272   \n",
       "1            28            113   \n",
       "2           166            459   \n",
       "3           173           1219   \n",
       "4           109            450   \n",
       "...         ...            ...   \n",
       "34562        58            308   \n",
       "34563        55            988   \n",
       "34564        71            105   \n",
       "34565        27            571   \n",
       "34566        58            135   \n",
       "\n",
       "                                       thumbnail_link  comments_disabled  \\\n",
       "0      https://i.ytimg.com/vi/RxGQe4EeEpA/default.jpg              False   \n",
       "1      https://i.ytimg.com/vi/hH7wVE8OlQ0/default.jpg              False   \n",
       "2      https://i.ytimg.com/vi/9V8bnWUmE9U/default.jpg              False   \n",
       "3      https://i.ytimg.com/vi/0_8py-t5R80/default.jpg              False   \n",
       "4      https://i.ytimg.com/vi/bk55RbxiQdI/default.jpg              False   \n",
       "...                                               ...                ...   \n",
       "34562  https://i.ytimg.com/vi/pj6YBBrO1sQ/default.jpg              False   \n",
       "34563  https://i.ytimg.com/vi/_Ne9ER-jr20/default.jpg              False   \n",
       "34564  https://i.ytimg.com/vi/xuOQq_fzEjk/default.jpg              False   \n",
       "34565  https://i.ytimg.com/vi/uXvjxeg08eQ/default.jpg              False   \n",
       "34566  https://i.ytimg.com/vi/C-bLqIftDY4/default.jpg              False   \n",
       "\n",
       "       ratings_disabled  video_error_or_removed  \\\n",
       "0                 False                   False   \n",
       "1                 False                   False   \n",
       "2                 False                   False   \n",
       "3                 False                   False   \n",
       "4                 False                   False   \n",
       "...                 ...                     ...   \n",
       "34562             False                   False   \n",
       "34563             False                   False   \n",
       "34564             False                   False   \n",
       "34565             False                   False   \n",
       "34566             False                   False   \n",
       "\n",
       "                                             description  \n",
       "0      윤종신 '좋니'의 답가 '좋아' 최초 공개!\\n그 여자의 이야기를 지금 만나보세요....  \n",
       "1      [채널A단독]北 병사 현재 '의식불명'… 혈압 떨어지는 중 \\n[채널A단독]우리측 ...  \n",
       "2                                        퍼가실때 꼭 출처 부탁드려요  \n",
       "3                                    다스는 누구겁니까 듣고 난 후 표정  \n",
       "4      김장겸 MBC 사장이 결국 해임됐다.\\n\\nMBC 대주주인 방송문화진흥회는 13일 ...  \n",
       "...                                                  ...  \n",
       "34562  - 남편을 돈줄로만 본 아내- 좋아요와 구독은 언제나 환영입니다.- 카톡시리즈- 모...  \n",
       "34563  안녕하세요~! 이슈텔러 입니다~^^화, 목 오후 4시 / 토요일 오전 9시 재밌고 ...  \n",
       "34564  2018년 6월 13일 아침 뉴스등록되지 않은 구독자가 여기에서 내 새 채널을 지원...  \n",
       "34565  워너원 웃음 참기 영상 항상 좋아해주셔서 감사합니다8ㅅ8이번에는 얼마전에 있었던 원...  \n",
       "34566  3월에 시동생이 이혼했습니다 그러면서 제가중2, 7살, 4살 되는 조카들을 데리고 ...  \n",
       "\n",
       "[34567 rows x 16 columns]"
      ]
     },
     "execution_count": 40,
     "metadata": {},
     "output_type": "execute_result"
    }
   ],
   "source": [
    "pd.read_csv('../data/KRvideos.csv',engine = 'python')"
   ]
  },
  {
   "cell_type": "code",
   "execution_count": null,
   "metadata": {},
   "outputs": [],
   "source": [
    "pd.concat([pd.read_csv(f\"../data/{file}\") for file in file_list])"
   ]
  }
 ],
 "metadata": {
  "kernelspec": {
   "display_name": "Python 3",
   "language": "python",
   "name": "python3"
  },
  "language_info": {
   "codemirror_mode": {
    "name": "ipython",
    "version": 3
   },
   "file_extension": ".py",
   "mimetype": "text/x-python",
   "name": "python",
   "nbconvert_exporter": "python",
   "pygments_lexer": "ipython3",
   "version": "3.7.9"
  }
 },
 "nbformat": 4,
 "nbformat_minor": 4
}
